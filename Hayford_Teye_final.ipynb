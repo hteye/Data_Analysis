{
 "cells": [
  {
   "cell_type": "code",
   "execution_count": null,
   "id": "b2959c90",
   "metadata": {},
   "outputs": [],
   "source": [
    "import pandas as pd\n",
    "import matplotlib.pyplot as plt\n",
    "import seaborn as sns"
   ]
  },
  {
   "cell_type": "markdown",
   "id": "8a3dfe83",
   "metadata": {},
   "source": [
    "Data reading"
   ]
  },
  {
   "cell_type": "code",
   "execution_count": null,
   "id": "e1dad596",
   "metadata": {},
   "outputs": [],
   "source": [
    "file_path = 'gdp_world.csv'\n",
    "\n",
    "# Specify the columns to include\n",
    "selected_columns = ['year', 'country', 'pop', 'labor_force', 'gdp', 'unemployment_r', 'pop_over_65', 'working_age_pop_pct', 'gdp_over_pop']\n",
    "\n",
    "# Read the CSV file into a DataFrame\n",
    "df = pd.read_csv(file_path, usecols=selected_columns)"
   ]
  },
  {
   "cell_type": "code",
   "execution_count": null,
   "id": "5b165adf",
   "metadata": {},
   "outputs": [],
   "source": [
    "# Filter rows for \"United States\" and drop NA values\n",
    "us_df = df[df['country'] == 'United States'].dropna()\n",
    "# Display the shape of the new DataFrame\n",
    "print(\"Shape of the 'United States' DataFrame:\", us_df.shape)"
   ]
  },
  {
   "cell_type": "code",
   "execution_count": null,
   "id": "111b72c6",
   "metadata": {},
   "outputs": [],
   "source": [
    "world_df = df[df['country'] == 'World']\n",
    "world_df = world_df[world_df['year'].isin(us_df['year'])].dropna()\n",
    "# Display the shape of the new DataFrame\n",
    "print(\"Shape of the 'World' DataFrame:\", world_df.shape)"
   ]
  },
  {
   "cell_type": "markdown",
   "id": "bfb75599",
   "metadata": {},
   "source": [
    "Q2. (35 pts) Pivot table and line plots"
   ]
  },
  {
   "cell_type": "code",
   "execution_count": null,
   "id": "ac594b88",
   "metadata": {},
   "outputs": [],
   "source": [
    "concatenated_df = pd.concat([us_df, world_df])\n",
    "pivot_table = concatenated_df.pivot_table(values=['pop', 'gdp_over_pop'], index='year', columns='country')"
   ]
  },
  {
   "cell_type": "code",
   "execution_count": null,
   "id": "e15a1fb4",
   "metadata": {},
   "outputs": [],
   "source": [
    "concatenated_df = pd.concat([us_df, world_df])\n",
    "# Create a line plot for 'gdp' with 'year' on the X-axis\n",
    "plt.figure(figsize=(10, 6))\n",
    "for country in concatenated_df['country'].unique():\n",
    "    country_data = concatenated_df[concatenated_df['country'] == country]\n",
    "    plt.plot(country_data['year'], country_data['gdp'], label=country)\n",
    "\n",
    "# Add legends, title, and label for X-axis\n",
    "plt.legend()\n",
    "plt.title('GDP Over Years for World and United States')\n",
    "plt.xlabel('Year')\n",
    "plt.ylabel('GDP')\n",
    "\n",
    "# Show the plot\n",
    "plt.show()"
   ]
  },
  {
   "cell_type": "code",
   "execution_count": null,
   "id": "dd27d941",
   "metadata": {},
   "outputs": [],
   "source": [
    "# Create a line plot for 'gdp_over_pop' with 'year' on the X-axis\n",
    "plt.figure(figsize=(10, 6))\n",
    "for country in concatenated_df['country'].unique():\n",
    "    country_data = concatenated_df[concatenated_df['country'] == country]\n",
    "    plt.plot(country_data['year'], country_data['gdp_over_pop'], label=country)\n",
    "\n",
    "# Add legends, title, and label for X-axis\n",
    "plt.legend()\n",
    "plt.title('GDP per Capita Over Years for World and United States')\n",
    "plt.xlabel('Year')\n",
    "plt.ylabel('GDP per Capita')\n",
    "\n",
    "# Show the plot\n",
    "plt.show()"
   ]
  },
  {
   "cell_type": "markdown",
   "id": "1a6206d4",
   "metadata": {},
   "source": [
    "Q3. (40 pts) Correlation analysis"
   ]
  },
  {
   "cell_type": "code",
   "execution_count": null,
   "id": "e661bf0d",
   "metadata": {
    "scrolled": true
   },
   "outputs": [],
   "source": [
    "# Drop 'year' and 'country' columns\n",
    "us_df_no_year_country = us_df.drop(['year', 'country'], axis=1)\n",
    "# Create a pair plot\n",
    "plt.figure(figsize=(15, 10))\n",
    "sns.pairplot(us_df_no_year_country)\n",
    "plt.suptitle('Pair Plot for United States Data', y=1.02)\n",
    "plt.show()"
   ]
  },
  {
   "cell_type": "markdown",
   "id": "47ea86b0",
   "metadata": {},
   "source": [
    "The histogram of \"pop_over_65\" shows that the population of the United States over the age of 65 is increasing.\n",
    "The aging population of the United States is having a significant impact on the economy and society. As the population over 65 grows,\n",
    "there is a greater demand for healthcare and social services.\n"
   ]
  },
  {
   "cell_type": "code",
   "execution_count": null,
   "id": "ad78e74a",
   "metadata": {},
   "outputs": [],
   "source": [
    "# Compute the correlation matrix\n",
    "correlation_matrix = us_df_no_year_country.corr()\n",
    "# Create a heatmap for the correlation matrix\n",
    "plt.figure(figsize=(12, 8))\n",
    "sns.heatmap(correlation_matrix, annot=True, cmap='coolwarm', fmt='.2f')\n",
    "plt.title('Correlation Heatmap for United States Data')\n",
    "plt.show()"
   ]
  },
  {
   "cell_type": "markdown",
   "id": "be32fd90",
   "metadata": {},
   "source": [
    "The folowing have a high correlation.\n",
    "Population and labor force 0.99\n",
    "Population and GDP 0.98\n",
    "Labor force and GDP 0.96\n",
    "Population over 65 and population 0.81\n",
    "Population over 65 and labor force 0.76\n",
    "Population over 65 and GDP 0.90\n",
    "GDP over population and population 0.98\n",
    "GDP over population and labor force 0.97"
   ]
  },
  {
   "cell_type": "code",
   "execution_count": null,
   "id": "8995d443",
   "metadata": {
    "scrolled": true
   },
   "outputs": [],
   "source": [
    "subset_df = df[['unemployment_r', 'labor_force']].dropna()\n",
    "# Create a 2-D KDE plot\n",
    "plt.figure(figsize=(10, 6))\n",
    "sns.kdeplot(data=subset_df, x='unemployment_r', y='labor_force', cmap='viridis', fill=True)\n",
    "plt.title('2-D KDE Plot for Unemployment Rate vs Labor Force')\n",
    "plt.xlabel('Unemployment Rate')\n",
    "plt.ylabel('Labor Force')\n",
    "plt.show()"
   ]
  },
  {
   "cell_type": "markdown",
   "id": "b6ebc17a",
   "metadata": {},
   "source": [
    "There is a general negative correlation between unemployment rates and labor force.\n",
    "There is considerable variation in the unemployment rates of areas with similar labor force participation rates.\n",
    "Some areas with very low labor force participation rates also have very high unemployment rates. This suggests that these areas may be facing significant challenges in attracting and retaining workers"
   ]
  },
  {
   "cell_type": "code",
   "execution_count": null,
   "id": "8a03abbf",
   "metadata": {},
   "outputs": [],
   "source": [
    "subset_df = df[['year', 'unemployment_r']].dropna()\n",
    "# Create a line plot for 'unemployment_r' with 'year' on the X-axis\n",
    "plt.figure(figsize=(12, 6))\n",
    "plt.plot(subset_df['year'], subset_df['unemployment_r'], marker='o', linestyle='-')\n",
    "# Add text for \"The Great Recession\" and \"Covid-19 Recession\"\n",
    "plt.annotate('The Great Recession', xy=(2009, subset_df['unemployment_r'].max()), xytext=(2007, subset_df['unemployment_r'].max() + 2),\n",
    "             arrowprops=dict(facecolor='red', shrink=0.05), fontsize=10, color='red')\n",
    "plt.annotate('Covid-19 Recession', xy=(2020, subset_df['unemployment_r'].max()), xytext=(2021, subset_df['unemployment_r'].max() + 2),\n",
    "             arrowprops=dict(facecolor='blue', shrink=0.05), fontsize=10, color='blue')\n",
    "\n",
    "plt.title('Unemployment Rate Over Years')\n",
    "plt.xlabel('Year')\n",
    "plt.ylabel('Unemployment Rate')\n",
    "\n",
    "# Show the plot\n",
    "plt.show()"
   ]
  },
  {
   "cell_type": "code",
   "execution_count": null,
   "id": "1d4f4c3a",
   "metadata": {},
   "outputs": [],
   "source": []
  }
 ],
 "metadata": {
  "kernelspec": {
   "display_name": "Python 3 (ipykernel)",
   "language": "python",
   "name": "python3"
  },
  "language_info": {
   "codemirror_mode": {
    "name": "ipython",
    "version": 3
   },
   "file_extension": ".py",
   "mimetype": "text/x-python",
   "name": "python",
   "nbconvert_exporter": "python",
   "pygments_lexer": "ipython3",
   "version": "3.11.5"
  }
 },
 "nbformat": 4,
 "nbformat_minor": 5
}
